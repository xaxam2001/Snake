{
 "cells": [
  {
   "cell_type": "code",
   "execution_count": 36,
   "id": "537f5f3c",
   "metadata": {},
   "outputs": [],
   "source": [
    "from typing import List\n",
    "import random\n",
    "import math\n",
    "from tqdm import tqdm\n",
    "import numpy as np\n",
    "import matplotlib.pyplot as plt"
   ]
  },
  {
   "cell_type": "code",
   "execution_count": 37,
   "id": "dfafe67a",
   "metadata": {},
   "outputs": [],
   "source": [
    "class MLP:\n",
    "    def __init__(self, npl: List[int]): # neurons per layer, d in the slides\n",
    "        self.npl = list(npl)\n",
    "        self.L = len(npl)-1  # last layer index\n",
    "        self.W = []  # weights weight of layer l going from neuron i to neuron j: W[l][i][j]\n",
    "\n",
    "        for l in range(self.L + 1):\n",
    "            self.W.append([])\n",
    "            if (l == 0) : continue # no weights for input layer, to be consistent with indexing (W[1] are weights going to layer 1)\n",
    "\n",
    "            for i in range(0, self.npl[l-1]+1): # +1 for bias neuron\n",
    "                self.W[l].append([])\n",
    "                for j in range(0, self.npl[l]+1):\n",
    "                    rdm_value = random.random() * 2 - 1  # random value between -1 and 1\n",
    "                    self.W[l][i].append(0.0 if j == 0 else rdm_value) # no weights going to bias neuron so set to 0.0 if j == 0 corresponds to bias neuron\n",
    "\n",
    "        self.X = []  # activations of layer l neuron i: X[l][i]\n",
    "        self.deltas = []  # deltas of layer l neuron i: deltas[l][i]\n",
    "\n",
    "        for l in range(self.L + 1):\n",
    "            self.X.append([])\n",
    "            self.deltas.append([])\n",
    "\n",
    "            for j in range(0, self.npl[l] + 1):\n",
    "                self.X[l].append(1.0 if j==0 else 0.0)\n",
    "                self.deltas[l].append(0.0)\n",
    "\n",
    "    def _propagate(self, inputs: List[float], is_classification: bool):\n",
    "        assert(len(inputs) == self.npl[0]) # check if inputs is the same size as nbs of layers\n",
    "\n",
    "        # update first layer\n",
    "        for j in range(len(inputs)):\n",
    "            self.X[0][j + 1] = inputs[j] # update X for input (layer 0) and keep the weight\n",
    "\n",
    "        # update all layers until output\n",
    "        for l in range(1, self.L + 1):\n",
    "            for j in range(1, self.npl[l]+1):\n",
    "                signal = 0.0\n",
    "                for i in range(0, self.npl[l-1] + 1):\n",
    "                    signal += self.W[l][i][j] * self.X[l - 1][i]\n",
    "                if (is_classification or l != self.L):\n",
    "                    self.X[l][j] = math.tanh(signal)\n",
    "                else:\n",
    "                    self.X[l][j] = signal # use identity method only when regression and updating last layer\n",
    "\n",
    "    def predict(self, inputs: List[float], is_classification: bool):\n",
    "        self._propagate(inputs, is_classification)\n",
    "        return self.X[self.L][1:]\n",
    "    \n",
    "    def train(self,\n",
    "              all_samples_inputs: List[List[float]],\n",
    "              all_samples_expected_outputs: List[List[float]],\n",
    "              is_classification: bool,\n",
    "              num_iter: int,\n",
    "              alpha: float):\n",
    "        \n",
    "        assert(len(all_samples_inputs) == len(all_samples_expected_outputs))\n",
    "        for _ in tqdm(range(num_iter)):\n",
    "            k = random.randint(0, len(all_samples_inputs) - 1)\n",
    "            inputs_k = all_samples_inputs[k]\n",
    "            labels_k = all_samples_expected_outputs[k]\n",
    "\n",
    "            self._propagate(inputs_k, is_classification) # mise à jour des sorties de tous les neurons (self.X)\n",
    "\n",
    "            for j in range(1, self.npl[self.L] + 1): # start with 1 to avoid last layer 1\n",
    "                self.deltas[self.L][j] = (self.X[self.L][j] - labels_k[j-1])\n",
    "                if (is_classification) :\n",
    "                    self.deltas[self.L][j] *= (1.0 - self.X[self.L][j]**2)\n",
    "\n",
    "            # get the deltas\n",
    "            for l in reversed(range(2, self.L + 1)):\n",
    "                for i in range(1, self.npl[l-1] + 1):\n",
    "                    total = 0.0\n",
    "                    for j in range(1, self.npl[l] + 1):\n",
    "                        total += self.W[l][i][j] * self.deltas[l][j]\n",
    "                    total *= (1.0 - self.X[l-1][i] ** 2)\n",
    "                    self.deltas[l-1][i] = total\n",
    "\n",
    "            # update weights\n",
    "            for l in range(1, self.L + 1):\n",
    "                for i in range(0, self.npl[l-1] + 1):\n",
    "                    for j in range(1, self.npl[l] + 1):\n",
    "                        self.W[l][i][j] -= alpha*self.X[l-1][i]*self.deltas[l][j]"
   ]
  },
  {
   "cell_type": "code",
   "execution_count": 38,
   "id": "c61a0c7d",
   "metadata": {},
   "outputs": [
    {
     "name": "stdout",
     "output_type": "stream",
     "text": [
      "[[1.0, 0.0, 0.0], [1.0, 0.0, 0.0, 0.0], [1.0, 0.0]]\n",
      "[[], [[0.0, 0.5310829884772206, -0.5276628931890259, 0.054597771206222445], [0.0, -0.2953089326348983, -0.7421513763758418, -0.8262347885388837], [0.0, 0.17699240377811165, 0.5699946350496508, 0.6377449282625245]], [[0.0, 0.7835549951662608], [0.0, 0.8226082839211777], [0.0, -0.8988066933863785], [0.0, -0.4226133208330429]]]\n",
      "[[0.0, 0.0, 0.0], [0.0, 0.0, 0.0, 0.0], [0.0, 0.0]]\n"
     ]
    }
   ],
   "source": [
    "mlp = MLP([2, 3, 1])\n",
    "print(mlp.X)\n",
    "print(mlp.W)\n",
    "print(mlp.deltas)"
   ]
  },
  {
   "cell_type": "code",
   "execution_count": 39,
   "id": "ecb75149",
   "metadata": {},
   "outputs": [
    {
     "data": {
      "text/plain": [
       "[0.791384901570766]"
      ]
     },
     "execution_count": 39,
     "metadata": {},
     "output_type": "execute_result"
    }
   ],
   "source": [
    "mlp.predict([42.0, 53.0], True)"
   ]
  },
  {
   "cell_type": "code",
   "execution_count": 40,
   "id": "868b5c8a",
   "metadata": {},
   "outputs": [
    {
     "name": "stdout",
     "output_type": "stream",
     "text": [
      "[0.9209305970826861]\n",
      "[0.9650821541906326]\n",
      "[0.7588648737906705]\n",
      "[0.935957077932033]\n"
     ]
    },
    {
     "name": "stderr",
     "output_type": "stream",
     "text": [
      "100%|██████████| 100000/100000 [00:01<00:00, 87872.71it/s]"
     ]
    },
    {
     "name": "stdout",
     "output_type": "stream",
     "text": [
      "[-0.9795304013534794]\n",
      "[0.9751404438473329]\n",
      "[0.9750233883951657]\n",
      "[-0.9822344254308635]\n"
     ]
    },
    {
     "name": "stderr",
     "output_type": "stream",
     "text": [
      "\n"
     ]
    }
   ],
   "source": [
    "xor_inputs = [\n",
    "    [0.0, 0.0],\n",
    "    [1.0, 0.0],\n",
    "    [0.0, 1.0],\n",
    "    [1.0, 1.0]\n",
    "]\n",
    "\n",
    "xor_expected_ouputs = [\n",
    "    [-1.0],\n",
    "    [1.0],\n",
    "    [1.0],\n",
    "    [-1.0]\n",
    "]\n",
    "\n",
    "for inp in xor_inputs:\n",
    "    print(mlp.predict(inp, True))\n",
    "mlp.train(xor_inputs, xor_expected_ouputs, True, 100000, 0.01)\n",
    "\n",
    "for inp in xor_inputs:\n",
    "    print(mlp.predict(inp, True))"
   ]
  },
  {
   "cell_type": "code",
   "execution_count": 123,
   "id": "e31e3a71",
   "metadata": {},
   "outputs": [],
   "source": [
    "class MLP_matrix:\n",
    "    def __init__(self, npl: List[int]): # neurons per layer, d in the slides\n",
    "        self.npl = list(npl)\n",
    "        self.L = len(npl)-1  # last layer index\n",
    "        # weights weight of layer l going from neuron i to neuron j: W[l][i][j]\n",
    "        self.W = []\n",
    "        self.W.append(np.array([]))  # no weights for input layer, to be consistent with indexing (W[1] are weights going to layer 1)\n",
    "\n",
    "        for l in range(1, self.L + 1):\n",
    "            self.W.append(np.random.uniform(-1, 1, (self.npl[l-1]+1, self.npl[l]+1)))  # +1 for bias neuron from layer l-1 to layer l\n",
    "            self.W[l][ :, 0] = 0.0  # no weights going to bias neuron so set to 0.0, j == 0 corresponds to bias neuron\n",
    "\n",
    "        self.X = []  # activations of layer l neuron i: X[l][i]\n",
    "        self.deltas = []  # deltas of layer l neuron i: deltas[l][i]\n",
    "\n",
    "        for l in range(self.L + 1):\n",
    "            self.X.append(np.zeros((self.npl[l] + 1, 1)))\n",
    "            self.X[l][0][0] = 1.0  # bias neuron\n",
    "\n",
    "            self.deltas.append(np.zeros((self.npl[l] + 1, 1)))\n",
    "\n",
    "    def _propagate(self, inputs: np.ndarray, is_classification: bool):\n",
    "        assert(len(inputs) == self.npl[0]) # check if inputs is the same size as nbs of layers\n",
    "\n",
    "        self.X[0][1:] = inputs # update the X row vector for input layer (keeping bias neuron)\n",
    "\n",
    "        # update all layers until output\n",
    "        for l in range(1, self.L + 1):\n",
    "            signal = self.W[l].T @ self.X[l - 1]  # matrix multiplication\n",
    "\n",
    "            if (is_classification or l != self.L):\n",
    "                self.X[l] = np.tanh(signal)\n",
    "            else:\n",
    "                self.X[l] = signal # use identity method only when regression and updating last layer\n",
    "\n",
    "    def predict(self, inputs: np.ndarray, is_classification: bool):\n",
    "        self._propagate(inputs, is_classification)\n",
    "        return self.X[self.L][1:]\n",
    "    \n",
    "    def train(self,\n",
    "              X: np.ndarray,\n",
    "              Y: np.ndarray,\n",
    "              is_classification: bool,\n",
    "              num_iter: int,\n",
    "              alpha: float):\n",
    "        \n",
    "        assert(X.shape[1] == Y.shape[1])\n",
    "\n",
    "        MSE = np.zeros((num_iter//100-1,))\n",
    "        error = 0\n",
    "\n",
    "        for i in tqdm(range(num_iter)):\n",
    "            k = np.random.randint(0, X.shape[1]) # pick a random sample\n",
    "            X_k = X[:,k].reshape(-1, 1) # get the k-th sample as a column vector\n",
    "            Y_k = np.ones((Y.shape[0]+1, 1))\n",
    "            Y_k[1:] = Y[:,k].reshape(-1, 1) # add bias neuron at index 0 (easy to handle with matrix operations)\n",
    "\n",
    "            self._propagate(X_k, is_classification) # mise à jour des sorties de tous les neurons (self.X)\n",
    "\n",
    "            self.deltas[self.L] = self.X[self.L] - Y_k\n",
    "\n",
    "            error += np.mean(self.deltas[self.L]**2)\n",
    "            if i % 100 == 0 and i > 0:\n",
    "                MSE[i//100-1] = error / 100.0\n",
    "                error = 0\n",
    "\n",
    "            if is_classification:\n",
    "                self.deltas[self.L] *= (1.0 - self.X[self.L]**2) # square element wise\n",
    "\n",
    "            # get the deltas\n",
    "            for l in reversed(range(2, self.L + 1)):\n",
    "                self.deltas[l-1] = (1.0 - self.X[l-1]**2) * (self.W[l] @ self.deltas[l])\n",
    "\n",
    "            # update weights\n",
    "            for l in range(1, self.L + 1):\n",
    "                self.W[l] -= alpha*self.X[l-1]*self.deltas[l].T\n",
    "\n",
    "        return MSE"
   ]
  },
  {
   "cell_type": "code",
   "execution_count": 124,
   "id": "bf200125",
   "metadata": {},
   "outputs": [
    {
     "name": "stdout",
     "output_type": "stream",
     "text": [
      "[array([[1.],\n",
      "       [0.],\n",
      "       [0.]]), array([[1.],\n",
      "       [0.],\n",
      "       [0.]]), array([[1.],\n",
      "       [0.]])]\n",
      "[array([], dtype=float64), array([[ 0.        , -0.43944957,  0.97221964],\n",
      "       [ 0.        ,  0.72950835,  0.83697776],\n",
      "       [ 0.        , -0.23793967, -0.17807134]]), array([[ 0.        , -0.91616351],\n",
      "       [ 0.        , -0.01676433],\n",
      "       [ 0.        , -0.35276305]])]\n",
      "[array([[0.],\n",
      "       [0.],\n",
      "       [0.]]), array([[0.],\n",
      "       [0.],\n",
      "       [0.]]), array([[0.],\n",
      "       [0.]])]\n"
     ]
    }
   ],
   "source": [
    "mlp_mat = MLP_matrix([2, 2, 1])\n",
    "print(mlp_mat.X)\n",
    "print(mlp_mat.W)\n",
    "print(mlp_mat.deltas)"
   ]
  },
  {
   "cell_type": "code",
   "execution_count": 125,
   "id": "8c5e4e3f",
   "metadata": {},
   "outputs": [
    {
     "data": {
      "text/plain": [
       "array([[-0.35357825]])"
      ]
     },
     "execution_count": 125,
     "metadata": {},
     "output_type": "execute_result"
    }
   ],
   "source": [
    "mlp_mat.predict(np.array([[42.0], [53.0]]), True)"
   ]
  },
  {
   "cell_type": "code",
   "execution_count": 126,
   "id": "872fadfb",
   "metadata": {},
   "outputs": [
    {
     "name": "stdout",
     "output_type": "stream",
     "text": [
      "[[-0.25198559]]\n",
      "[[-0.3266397]]\n",
      "[[-0.21956704]]\n",
      "[[-0.31637142]]\n"
     ]
    },
    {
     "name": "stderr",
     "output_type": "stream",
     "text": [
      "100%|██████████| 100000/100000 [00:04<00:00, 20894.35it/s]"
     ]
    },
    {
     "name": "stdout",
     "output_type": "stream",
     "text": [
      "[[-0.98722634]]\n",
      "[[0.97541503]]\n",
      "[[0.97577099]]\n",
      "[[-0.97597862]]\n"
     ]
    },
    {
     "name": "stderr",
     "output_type": "stream",
     "text": [
      "\n"
     ]
    }
   ],
   "source": [
    "xor_inputs = np.array([\n",
    "    [0.0, 1.0, 0.0, 1.0],\n",
    "    [0.0, 0.0, 1.0, 1.0],\n",
    "])\n",
    "\n",
    "xor_expected_ouputs =np.array([\n",
    "    [-1.0, 1.0, 1.0,-1.0]\n",
    "])\n",
    "\n",
    "for col in range(xor_inputs.shape[1]):\n",
    "    inp = xor_inputs[:, col].reshape(-1, 1)\n",
    "    print(mlp_mat.predict(inp, True))\n",
    "mlp_mat.train(xor_inputs, xor_expected_ouputs, True, 100000, 0.01)\n",
    "\n",
    "for col in range(xor_inputs.shape[1]):\n",
    "    inp = xor_inputs[:, col].reshape(-1, 1)\n",
    "    print(mlp_mat.predict(inp, True))"
   ]
  },
  {
   "cell_type": "code",
   "execution_count": 127,
   "id": "90acd57f",
   "metadata": {},
   "outputs": [
    {
     "name": "stderr",
     "output_type": "stream",
     "text": [
      "100%|██████████| 10000/10000 [00:00<00:00, 32323.78it/s]\n"
     ]
    },
    {
     "name": "stdout",
     "output_type": "stream",
     "text": [
      "[[0.96315016]]\n",
      "[[-0.97711235]]\n",
      "[[-0.99148725]]\n"
     ]
    },
    {
     "data": {
      "image/png": "[encoded data removed]",
      "text/plain": [
       "<Figure size 640x480 with 1 Axes>"
      ]
     },
     "metadata": {},
     "output_type": "display_data"
    }
   ],
   "source": [
    "mlp_mat = MLP_matrix([2, 1])\n",
    "\n",
    "X = np.array([\n",
    "      [1, 1],\n",
    "      [2, 3],\n",
    "      [3, 3]\n",
    "])\n",
    "Y = np.array([[\n",
    "      1,\n",
    "      -1,\n",
    "      -1\n",
    "]])\n",
    "\n",
    "error = mlp_mat.train(X.T, Y, True, 10000, 0.1)\n",
    "\n",
    "plt.plot(error)\n",
    "\n",
    "for i in range(X.shape[0]):\n",
    "    inp = X[i].reshape(-1, 1)\n",
    "    print(mlp_mat.predict(inp, True))"
   ]
  },
  {
   "cell_type": "code",
   "execution_count": 100,
   "id": "a400bb36",
   "metadata": {},
   "outputs": [
    {
     "name": "stdout",
     "output_type": "stream",
     "text": [
      "(100, 2)\n",
      "(100, 1)\n"
     ]
    },
    {
     "name": "stderr",
     "output_type": "stream",
     "text": [
      "100%|██████████| 100000/100000 [00:03<00:00, 32600.10it/s]\n"
     ]
    },
    {
     "data": {
      "image/png": "[encoded data removed]",
      "text/plain": [
       "<Figure size 640x480 with 1 Axes>"
      ]
     },
     "metadata": {},
     "output_type": "display_data"
    },
    {
     "name": "stdout",
     "output_type": "stream",
     "text": [
      "[[0.99318782]]\n",
      "[[0.99998283]]\n",
      "[[0.78625898]]\n",
      "[[0.97559167]]\n",
      "[[0.99648582]]\n",
      "[[0.96818248]]\n",
      "[[0.99999446]]\n",
      "[[0.99999188]]\n",
      "[[0.99850011]]\n",
      "[[0.99316891]]\n",
      "[[0.98071468]]\n",
      "[[0.99913027]]\n",
      "[[0.98817236]]\n",
      "[[0.99806355]]\n",
      "[[0.997727]]\n",
      "[[0.85590298]]\n",
      "[[0.99807247]]\n",
      "[[0.99926993]]\n",
      "[[0.99984096]]\n",
      "[[0.99681553]]\n",
      "[[0.99863609]]\n",
      "[[0.95284115]]\n",
      "[[0.99873258]]\n",
      "[[0.98468649]]\n",
      "[[0.9999504]]\n",
      "[[0.99768263]]\n",
      "[[0.99909687]]\n",
      "[[0.99729228]]\n",
      "[[0.99978818]]\n",
      "[[0.99998179]]\n",
      "[[0.99991115]]\n",
      "[[0.9999747]]\n",
      "[[0.99604814]]\n",
      "[[0.99800869]]\n",
      "[[0.93947835]]\n",
      "[[0.9949376]]\n",
      "[[0.99895103]]\n",
      "[[0.99432366]]\n",
      "[[0.99923464]]\n",
      "[[0.99115333]]\n",
      "[[0.92461916]]\n",
      "[[0.99969831]]\n",
      "[[0.99918913]]\n",
      "[[0.93548188]]\n",
      "[[0.99896531]]\n",
      "[[0.99173192]]\n",
      "[[0.99867497]]\n",
      "[[0.99924196]]\n",
      "[[0.986759]]\n",
      "[[0.99955835]]\n",
      "[[-0.94349476]]\n",
      "[[-0.99995276]]\n",
      "[[-0.99993054]]\n",
      "[[-0.72984252]]\n",
      "[[-0.99984924]]\n",
      "[[-0.96531791]]\n",
      "[[-0.99928039]]\n",
      "[[-0.9986283]]\n",
      "[[-0.99995464]]\n",
      "[[-0.99999383]]\n",
      "[[-0.99826048]]\n",
      "[[-0.99313827]]\n",
      "[[-0.99967842]]\n",
      "[[-0.99999386]]\n",
      "[[-0.99233297]]\n",
      "[[-0.99852447]]\n",
      "[[-0.9893802]]\n",
      "[[-0.99837736]]\n",
      "[[-0.99813709]]\n",
      "[[-0.99914811]]\n",
      "[[-0.99997756]]\n",
      "[[-0.99910242]]\n",
      "[[-0.99145184]]\n",
      "[[-0.99981269]]\n",
      "[[-0.99886514]]\n",
      "[[-0.99995298]]\n",
      "[[-0.99996288]]\n",
      "[[-0.94355097]]\n",
      "[[-0.99956897]]\n",
      "[[-0.99938949]]\n",
      "[[-0.99757435]]\n",
      "[[-0.99923885]]\n",
      "[[-0.99988808]]\n",
      "[[-0.99997359]]\n",
      "[[-0.99986749]]\n",
      "[[-0.99977561]]\n",
      "[[-0.96027011]]\n",
      "[[-0.99987395]]\n",
      "[[-0.99325674]]\n",
      "[[-0.9985194]]\n",
      "[[-0.99390554]]\n",
      "[[-0.87777938]]\n",
      "[[-0.99961388]]\n",
      "[[-0.99996509]]\n",
      "[[-0.99795034]]\n",
      "[[-0.99958262]]\n",
      "[[-0.99991487]]\n",
      "[[-0.99984932]]\n",
      "[[-0.97964653]]\n",
      "[[-0.99996303]]\n"
     ]
    }
   ],
   "source": [
    "mlp_mat = MLP_matrix([2, 1])\n",
    "\n",
    "X = np.concatenate([np.random.random((50,2)) * 0.9 + np.array([1, 1]), np.random.random((50,2)) * 0.9 + np.array([2, 2])])\n",
    "Y = np.concatenate([np.ones((50, 1)), np.ones((50, 1)) * -1.0])\n",
    "\n",
    "print(X.shape)\n",
    "print(Y.shape)\n",
    "\n",
    "error = mlp_mat.train(X.T, Y.T, True, 100000, 0.1)\n",
    "\n",
    "plt.plot(error)\n",
    "plt.show()\n",
    "\n",
    "for i in range(X.shape[0]):\n",
    "    inp = X[i].reshape(-1, 1)\n",
    "    print(mlp_mat.predict(inp, True))"
   ]
  },
  {
   "cell_type": "code",
   "execution_count": 120,
   "id": "26ab9a4a",
   "metadata": {},
   "outputs": [
    {
     "name": "stdout",
     "output_type": "stream",
     "text": [
      "(500, 2)\n",
      "(500, 1)\n"
     ]
    },
    {
     "name": "stderr",
     "output_type": "stream",
     "text": [
      "100%|██████████| 200000/200000 [00:13<00:00, 15356.75it/s]\n"
     ]
    },
    {
     "data": {
      "image/png": "[encoded data removed]",
      "text/plain": [
       "<Figure size 640x480 with 1 Axes>"
      ]
     },
     "metadata": {},
     "output_type": "display_data"
    }
   ],
   "source": [
    "mlp_mat = MLP_matrix([2, 6, 4, 1])\n",
    "\n",
    "X = np.random.random((500, 2)) * 2.0 - 1.0\n",
    "Y = np.array([1 if abs(p[0]) <= 0.3 or abs(p[1]) <= 0.3 else -1 for p in X]).reshape(-1, 1)\n",
    "\n",
    "print(X.shape)\n",
    "print(Y.shape)\n",
    "\n",
    "error = mlp_mat.train(X.T, Y.T, True, 200000, 0.01)\n",
    "\n",
    "plt.plot(error)\n",
    "plt.show()\n"
   ]
  },
  {
   "cell_type": "code",
   "execution_count": 129,
   "id": "eb3bbd04",
   "metadata": {},
   "outputs": [
    {
     "name": "stdout",
     "output_type": "stream",
     "text": [
      "(412, 2)\n",
      "(412, 3)\n"
     ]
    },
    {
     "name": "stderr",
     "output_type": "stream",
     "text": [
      "100%|██████████| 10000/10000 [00:00<00:00, 33799.41it/s]\n"
     ]
    },
    {
     "data": {
      "image/png": "[encoded data removed]",
      "text/plain": [
       "<Figure size 640x480 with 1 Axes>"
      ]
     },
     "metadata": {},
     "output_type": "display_data"
    }
   ],
   "source": [
    "mlp_mat = MLP_matrix([2, 3])\n",
    "\n",
    "X = np.random.random((500, 2)) * 2.0 - 1.0\n",
    "Y = np.array([[1, -1, -1] if -p[0] - p[1] - 0.5 > 0 and p[1] < 0 and p[0] - p[1] - 0.5 < 0 else\n",
    "              [-1, 1, -1] if -p[0] - p[1] - 0.5 < 0 and p[1] > 0 and p[0] - p[1] - 0.5 < 0 else\n",
    "              [-1, -1, 1] if -p[0] - p[1] - 0.5 < 0 and p[1] < 0 and p[0] - p[1] - 0.5 > 0 else\n",
    "              [-1, -1, -1]for p in X])\n",
    "\n",
    "X = X[[not np.all(arr == [-1, -1, -1]) for arr in Y]]\n",
    "Y = Y[[not np.all(arr == [-1, -1, -1]) for arr in Y]]\n",
    "\n",
    "\n",
    "\n",
    "print(X.shape)\n",
    "print(Y.shape)\n",
    "\n",
    "error = mlp_mat.train(X.T, Y.T, True, 10000, 0.01)\n",
    "\n",
    "plt.plot(error)\n",
    "plt.show()"
   ]
  },
  {
   "cell_type": "code",
   "execution_count": 164,
   "id": "967e0098",
   "metadata": {},
   "outputs": [
    {
     "name": "stdout",
     "output_type": "stream",
     "text": [
      "(1000, 2)\n",
      "(1000, 3)\n"
     ]
    },
    {
     "name": "stderr",
     "output_type": "stream",
     "text": [
      "100%|██████████| 1000000/1000000 [01:05<00:00, 15327.78it/s]\n"
     ]
    },
    {
     "data": {
      "image/png": "[encoded data removed]",
      "text/plain": [
       "<Figure size 640x480 with 1 Axes>"
      ]
     },
     "metadata": {},
     "output_type": "display_data"
    }
   ],
   "source": [
    "mlp_mat = MLP_matrix([2, 32, 24, 3])\n",
    "\n",
    "X = np.random.random((1000, 2)) * 2.0 - 1.0\n",
    "Y = np.array([[1, -1, -1] if abs(p[0] % 0.5) <= 0.25 and abs(p[1] % 0.5) > 0.25 else [-1, 1, -1] if abs(p[0] % 0.5) > 0.25 and abs(p[1] % 0.5) <= 0.25 else [-1, -1, 1] for p in X])\n",
    "\n",
    "print(X.shape)\n",
    "print(Y.shape)\n",
    "\n",
    "error = mlp_mat.train(X.T, Y.T, True, 1000000, 0.03)\n",
    "\n",
    "plt.plot(error)\n",
    "plt.show()"
   ]
  },
  {
   "cell_type": "code",
   "execution_count": 178,
   "id": "b05613ac",
   "metadata": {},
   "outputs": [
    {
     "name": "stdout",
     "output_type": "stream",
     "text": [
      "(2, 1)\n",
      "(2, 1)\n"
     ]
    },
    {
     "name": "stderr",
     "output_type": "stream",
     "text": [
      "100%|██████████| 1000/1000 [00:00<00:00, 24948.13it/s]\n"
     ]
    },
    {
     "data": {
      "image/png": "[encoded data removed]",
      "text/plain": [
       "<Figure size 640x480 with 1 Axes>"
      ]
     },
     "metadata": {},
     "output_type": "display_data"
    }
   ],
   "source": [
    "mlp_mat = MLP_matrix([1,1])\n",
    "\n",
    "X = np.array([\n",
    "      [1],\n",
    "      [2]\n",
    "])\n",
    "Y = np.array([\n",
    "      2,\n",
    "      3\n",
    "]).reshape(-1, 1)\n",
    "\n",
    "print(X.shape)\n",
    "print(Y.shape)\n",
    "\n",
    "error = mlp_mat.train(X.T, Y.T, False, 1000, 0.04)\n",
    "\n",
    "plt.plot(error)\n",
    "plt.show()"
   ]
  },
  {
   "cell_type": "code",
   "execution_count": null,
   "id": "9d4105b9",
   "metadata": {},
   "outputs": [],
   "source": [
    "mlp_mat = MLP_matrix([1,1])\n",
    "\n",
    "X = np.array([\n",
    "      [1],\n",
    "      [2]\n",
    "])\n",
    "Y = np.array([\n",
    "      2,\n",
    "      3\n",
    "]).reshape(-1, 1)\n",
    "\n",
    "print(X.shape)\n",
    "print(Y.shape)\n",
    "\n",
    "error = mlp_mat.train(X.T, Y.T, False, 1000, 0.04)\n",
    "\n",
    "plt.plot(error)\n",
    "plt.show()"
   ]
  },
  {
   "cell_type": "markdown",
   "id": "e840a24d",
   "metadata": {},
   "source": [
    "# TODO\n",
    "- tester avec régression\n",
    "- implem en C++\n",
    "- implémenter recorder"
   ]
  }
 ],
 "metadata": {
  "kernelspec": {
   "display_name": "Python 3",
   "language": "python",
   "name": "python3"
  },
  "language_info": {
   "codemirror_mode": {
    "name": "ipython",
    "version": 3
   },
   "file_extension": ".py",
   "mimetype": "text/x-python",
   "name": "python",
   "nbconvert_exporter": "python",
   "pygments_lexer": "ipython3",
   "version": "3.11.9"
  }
 },
 "nbformat": 4,
 "nbformat_minor": 5
}
