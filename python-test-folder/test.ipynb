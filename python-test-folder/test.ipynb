{
 "cells": [
  {
   "cell_type": "code",
   "execution_count": 1,
   "id": "0b9f23f3",
   "metadata": {},
   "outputs": [
    {
     "data": {
      "text/plain": [
       "<module 'ML_lib' from 'c:\\\\Users\\\\maxim\\\\Godot Games\\\\Snake\\\\python-test-folder\\\\ML_lib.py'>"
      ]
     },
     "execution_count": 1,
     "metadata": {},
     "output_type": "execute_result"
    }
   ],
   "source": [
    "import ML_lib\n",
    "import numpy as np\n",
    "import importlib\n",
    "\n",
    "importlib.reload(ML_lib)"
   ]
  },
  {
   "cell_type": "code",
   "execution_count": 1,
   "id": "c0697b77",
   "metadata": {},
   "outputs": [
    {
     "ename": "NameError",
     "evalue": "name 'ML_lib' is not defined",
     "output_type": "error",
     "traceback": [
      "\u001b[1;31m---------------------------------------------------------------------------\u001b[0m",
      "\u001b[1;31mNameError\u001b[0m                                 Traceback (most recent call last)",
      "Cell \u001b[1;32mIn[1], line 1\u001b[0m\n\u001b[1;32m----> 1\u001b[0m model \u001b[38;5;241m=\u001b[39m \u001b[43mML_lib\u001b[49m\u001b[38;5;241m.\u001b[39mcreate_linear_model(\u001b[38;5;241m43.0\u001b[39m) \n\u001b[0;32m      2\u001b[0m \u001b[38;5;28mprint\u001b[39m(ML_lib\u001b[38;5;241m.\u001b[39mpredict_linear_model(model)) \n\u001b[0;32m      3\u001b[0m ML_lib\u001b[38;5;241m.\u001b[39mrelease_linear_model(model) \n",
      "\u001b[1;31mNameError\u001b[0m: name 'ML_lib' is not defined"
     ]
    }
   ],
   "source": [
    "model = ML_lib.create_linear_model(43.0) \n",
    "print(ML_lib.predict_linear_model(model)) \n",
    "ML_lib.release_linear_model(model) \n",
    "\n",
    "float_array = np.array([66.0, 44.0], dtype=np.float32) \n",
    "print(ML_lib.sum_array(float_array))\n",
    "\n",
    "array_length = 10 \n",
    "array_pointer = ML_lib.get_array_of_incrementing_numbers(array_length)\n",
    "array = np.ctypeslib.as_array(array_pointer, (array_length,)) \n",
    "print(array) \n",
    "\n",
    "ML_lib.delete_array(array_pointer, array_length)\n",
    "print(ML_lib.my_add(33, 22))"
   ]
  }
 ],
 "metadata": {
  "kernelspec": {
   "display_name": "Python 3",
   "language": "python",
   "name": "python3"
  },
  "language_info": {
   "codemirror_mode": {
    "name": "ipython",
    "version": 3
   },
   "file_extension": ".py",
   "mimetype": "text/x-python",
   "name": "python",
   "nbconvert_exporter": "python",
   "pygments_lexer": "ipython3",
   "version": "3.11.9"
  }
 },
 "nbformat": 4,
 "nbformat_minor": 5
}
